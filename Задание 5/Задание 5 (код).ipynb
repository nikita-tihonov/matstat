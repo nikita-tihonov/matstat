{
  "nbformat": 4,
  "nbformat_minor": 0,
  "metadata": {
    "colab": {
      "provenance": []
    },
    "kernelspec": {
      "name": "python3",
      "display_name": "Python 3"
    },
    "language_info": {
      "name": "python"
    }
  },
  "cells": [
    {
      "cell_type": "code",
      "execution_count": 24,
      "metadata": {
        "id": "DYaF8KrqxxMj"
      },
      "outputs": [],
      "source": [
        "import numpy as np\n",
        "import matplotlib.pyplot as plt"
      ]
    },
    {
      "cell_type": "code",
      "source": [
        "teta = 10\n",
        "quantity = 100\n",
        "\n",
        "selection_related = (1 - np.random.rand(quantity)) ** (1/(1 - teta))\n",
        "selection_related.sort()\n",
        "print(selection_related)\n",
        "\n",
        "selection = (1 - np.random.rand(quantity)) ** (1/(1 - teta))\n",
        "selection.sort()\n",
        "print(selection)"
      ],
      "metadata": {
        "colab": {
          "base_uri": "https://localhost:8080/"
        },
        "id": "v58xegQDx_ix",
        "outputId": "951d967b-a31c-47dd-e194-a0b3a6314480"
      },
      "execution_count": 33,
      "outputs": [
        {
          "output_type": "stream",
          "name": "stdout",
          "text": [
            "[1.00107658 1.00177136 1.00376694 1.00401805 1.00432945 1.00611522\n",
            " 1.0063124  1.00898564 1.01041996 1.01066155 1.01301852 1.01319581\n",
            " 1.01395779 1.01446259 1.02040899 1.02183082 1.02246142 1.02514965\n",
            " 1.02588614 1.02592873 1.02769915 1.03141635 1.03152135 1.03215424\n",
            " 1.03219506 1.03288455 1.03644156 1.03672087 1.03829668 1.03961827\n",
            " 1.04050897 1.04147312 1.0435717  1.04932953 1.0501179  1.05014001\n",
            " 1.05110116 1.05145115 1.0563031  1.06031405 1.0608722  1.06639168\n",
            " 1.06663324 1.06875052 1.06895312 1.07039899 1.07578982 1.07965456\n",
            " 1.0808965  1.08628143 1.08685145 1.08730698 1.09030617 1.09165755\n",
            " 1.09335775 1.09421774 1.09587924 1.09602481 1.10007219 1.10056822\n",
            " 1.10412553 1.10495113 1.1066461  1.11835473 1.12153648 1.12580864\n",
            " 1.1290088  1.13286713 1.13551177 1.13551987 1.13691518 1.13902054\n",
            " 1.145887   1.15139476 1.1600608  1.1621565  1.16369231 1.16898395\n",
            " 1.19305644 1.19342748 1.20712961 1.21689633 1.22245001 1.22859886\n",
            " 1.23956663 1.24160591 1.24182832 1.26388634 1.26742371 1.28680535\n",
            " 1.2923746  1.29486232 1.30943212 1.35117425 1.43908278 1.49237734\n",
            " 1.52450497 1.59112722 1.67349572 1.9757215 ]\n",
            "[1.00039385 1.00054682 1.00328574 1.00342312 1.00433566 1.00461568\n",
            " 1.00551458 1.00717098 1.00820168 1.00849979 1.01244452 1.01492366\n",
            " 1.0160227  1.01833618 1.01837295 1.01848222 1.01961791 1.02016143\n",
            " 1.0202196  1.02233486 1.02333858 1.0243899  1.02816405 1.02960692\n",
            " 1.03229897 1.03542962 1.03654929 1.03669629 1.03719863 1.03920816\n",
            " 1.03959537 1.0411366  1.0431112  1.04452148 1.04829826 1.04972413\n",
            " 1.05005313 1.05286584 1.0556922  1.05623086 1.05853787 1.06008399\n",
            " 1.0609078  1.0629219  1.0679876  1.06941903 1.07450407 1.07664602\n",
            " 1.08264663 1.08587223 1.08641984 1.09011778 1.09620367 1.0981367\n",
            " 1.10383158 1.10655124 1.10836418 1.11150873 1.11620508 1.11683647\n",
            " 1.11749347 1.11956723 1.12665948 1.13260492 1.13312515 1.14013016\n",
            " 1.14948824 1.15014412 1.15731935 1.1643581  1.18248229 1.18273397\n",
            " 1.184081   1.18970672 1.19153804 1.19559548 1.20132498 1.20625698\n",
            " 1.20759825 1.20856063 1.21566276 1.21935932 1.23184296 1.23885842\n",
            " 1.24522415 1.25937444 1.26793968 1.28808635 1.3156177  1.32850621\n",
            " 1.35078753 1.35198599 1.36373438 1.47216093 1.48560278 1.50146815\n",
            " 1.54074247 1.83797867 1.85930255 1.88698743]\n"
          ]
        }
      ]
    },
    {
      "cell_type": "code",
      "source": [
        "def get_bootstrap_sample(x, B_sample = 1000):\n",
        "    N = len(x)\n",
        "    result = list()\n",
        "    for i in range (B_sample):\n",
        "        sample = np.random.choice(x, size = N, replace = True)\n",
        "        if (B_sample == 1):\n",
        "            sample = sample.T[0]\n",
        "        result.append(sample)\n",
        "    return result"
      ],
      "metadata": {
        "id": "Q0QwaDULyagU"
      },
      "execution_count": 34,
      "outputs": []
    },
    {
      "cell_type": "code",
      "source": [
        "def teta_waved(selection, quantity):\n",
        "    sum = 0\n",
        "    for i in range(quantity):\n",
        "        sum += np.log(selection[i])\n",
        "    return len(selection) / sum + 1"
      ],
      "metadata": {
        "id": "ykj-7q032Rcw"
      },
      "execution_count": 35,
      "outputs": []
    },
    {
      "cell_type": "markdown",
      "source": [
        "#d) Вычисляем доверительные интервалы для доверительной вероятности 0.95"
      ],
      "metadata": {
        "id": "0-WifeqQye6N"
      }
    },
    {
      "cell_type": "markdown",
      "source": [
        "Доверительный интервал для медианы"
      ],
      "metadata": {
        "id": "UvMvtmpzyqs_"
      }
    },
    {
      "cell_type": "code",
      "source": [
        "def median_confidence_interval(selection):\n",
        "    teta_w = teta_waved(selection_related, quantity)\n",
        "    left_part = (-1.96 * np.log(2) * (2 ** (1 / (teta_w - 1)))) / ((teta_w - 1)  * quantity ** (1/2)) + 2 ** (1 / (teta_w - 1))\n",
        "    right_part = (1.96 * np.log(2) * (2 ** (1 / (teta_w - 1)))) / ((teta_w - 1)  * quantity ** (1/2)) + 2 ** (1 / (teta_w - 1))\n",
        "    print('Доверительный интервал для медианы: ', left_part, '< teta <', right_part)\n",
        "    print('Длина доверительного интервала: ', right_part - left_part)\n",
        "    return left_part, right_part\n",
        "median_confidence_interval(selection)"
      ],
      "metadata": {
        "colab": {
          "base_uri": "https://localhost:8080/"
        },
        "id": "wKppFlFiybJe",
        "outputId": "501b12e5-8d97-46d6-94d0-c5e7f82a87ec"
      },
      "execution_count": 36,
      "outputs": [
        {
          "output_type": "stream",
          "name": "stdout",
          "text": [
            "Доверительный интервал для медианы:  1.0654426194381026 < teta < 1.0989537208156097\n",
            "Длина доверительного интервала:  0.033511101377507124\n"
          ]
        },
        {
          "output_type": "execute_result",
          "data": {
            "text/plain": [
              "(1.0654426194381026, 1.0989537208156097)"
            ]
          },
          "metadata": {},
          "execution_count": 36
        }
      ]
    },
    {
      "cell_type": "markdown",
      "source": [
        "Асимптотический доверительный интервал"
      ],
      "metadata": {
        "id": "9XYcB3hY0r_p"
      }
    },
    {
      "cell_type": "code",
      "source": [
        "def asymptotic_confidence_interval(selection):\n",
        "    teta_w = teta_waved(selection, quantity)\n",
        "    left_part = -1.96 * (teta_w - 1) / (quantity ** 1/2) + teta_w\n",
        "    right_part = 1.96 * (teta_w - 1) / (quantity ** 1/2) + teta_w\n",
        "    print('Асимптотический доверительный интервал: ', left_part, \"< teta <\", right_part)\n",
        "    print('Длина доверительного интервала: ', right_part - left_part)\n",
        "    return left_part, right_part\n",
        "asymptotic_confidence_interval(selection)"
      ],
      "metadata": {
        "colab": {
          "base_uri": "https://localhost:8080/"
        },
        "id": "VlIueB6_0j1F",
        "outputId": "a257e6ec-ca5e-4abb-93c2-a4975ba84b38"
      },
      "execution_count": 37,
      "outputs": [
        {
          "output_type": "stream",
          "name": "stdout",
          "text": [
            "Асимптотический доверительный интервал:  8.70656200075054 < teta < 9.3354071931515\n",
            "Длина доверительного интервала:  0.6288451924009593\n"
          ]
        },
        {
          "output_type": "execute_result",
          "data": {
            "text/plain": [
              "(8.70656200075054, 9.3354071931515)"
            ]
          },
          "metadata": {},
          "execution_count": 37
        }
      ]
    },
    {
      "cell_type": "markdown",
      "source": [
        "#t) Строим бутстраповский доверительный интервал"
      ],
      "metadata": {
        "id": "Q-yxnaGk10jO"
      }
    },
    {
      "cell_type": "markdown",
      "source": [
        "Бутстраповский параметрический доверительный интервал"
      ],
      "metadata": {
        "id": "bUxUPuOh2ES2"
      }
    },
    {
      "cell_type": "code",
      "source": [
        "def bootstrap_parametric(selection):\n",
        "    real_teta = teta_waved(selection, quantity)\n",
        "    teta = real_teta\n",
        "    n = 100\n",
        "    current_selection = list()\n",
        "    current_selection_grade = list()\n",
        "    for i in range(50000):\n",
        "        current_selection.append(np.random.uniform(teta, 2 * teta, n))\n",
        "        current_selection_grade.append(teta_waved(current_selection[i], quantity))\n",
        "    current_selection_grade = np.array(current_selection_grade)\n",
        "    current_selection_grade.sort()\n",
        "    k1 = 1249\n",
        "    k2 = 48749\n",
        "    left_part = current_selection_grade[k1]\n",
        "    right_part = current_selection_grade[k2]\n",
        "    print('Бутстраповский параметрический доверительный интервал: ', left_part, '< teta <', right_part)\n",
        "    print('Длина бутстраповского параметрического доверительного интервала: ', right_part - left_part)\n",
        "    return left_part, right_part\n",
        "bootstrap_parametric(selection)"
      ],
      "metadata": {
        "colab": {
          "base_uri": "https://localhost:8080/"
        },
        "id": "Yx6DzxnA1vUN",
        "outputId": "597ad70b-1f4b-424b-ec2e-2aa33b7243a8"
      },
      "execution_count": 38,
      "outputs": [
        {
          "output_type": "stream",
          "name": "stdout",
          "text": [
            "Бутстраповский параметрический доверительный интервал:  1.38109479654221 < teta < 1.39257049138681\n",
            "Длина бутстраповского параметрического доверительного интервала:  0.011475694844599982\n"
          ]
        },
        {
          "output_type": "execute_result",
          "data": {
            "text/plain": [
              "(1.38109479654221, 1.39257049138681)"
            ]
          },
          "metadata": {},
          "execution_count": 38
        }
      ]
    },
    {
      "cell_type": "markdown",
      "source": [
        "Бутстраповский непараметрический доверительный интервал"
      ],
      "metadata": {
        "id": "PtKzy5PB3OM_"
      }
    },
    {
      "cell_type": "code",
      "source": [
        "def bootstrap_nonparametric(selection):\n",
        "    real_teta = teta_waved(selection, quantity)\n",
        "    current_selection = np.array(get_bootstrap_sample(selection))\n",
        "    bootstrap_teta = list()\n",
        "    for i in range(1000):\n",
        "        bootstrap_teta.append(teta_waved(current_selection[i], quantity))\n",
        "    bootstrap_teta = np.array(bootstrap_teta)\n",
        "    delta = bootstrap_teta - real_teta\n",
        "    delta.sort()\n",
        "    k1 = 24\n",
        "    k2 = 974\n",
        "    right_part = real_teta - delta[k1]\n",
        "    left_part = real_teta - delta[k2]\n",
        "    print('Бутстраповский непараметрический доверительный интервал: ', left_part, '< teta <', right_part)\n",
        "    print('Длина бутстраповского непараметрического доверительного интервала: ', right_part - left_part)\n",
        "    return left_part, right_part\n",
        "bootstrap_nonparametric(selection)"
      ],
      "metadata": {
        "colab": {
          "base_uri": "https://localhost:8080/"
        },
        "id": "CzdattXS23sy",
        "outputId": "920adffe-7c5d-4b63-ca50-6600877c2de3"
      },
      "execution_count": 39,
      "outputs": [
        {
          "output_type": "stream",
          "name": "stdout",
          "text": [
            "Бутстраповский непараметрический доверительный интервал:  7.031001054625733 < teta < 10.463749137103687\n",
            "Длина бутстраповского непараметрического доверительного интервала:  3.4327480824779535\n"
          ]
        },
        {
          "output_type": "execute_result",
          "data": {
            "text/plain": [
              "(7.031001054625733, 10.463749137103687)"
            ]
          },
          "metadata": {},
          "execution_count": 39
        }
      ]
    },
    {
      "cell_type": "markdown",
      "source": [
        "#f) Сравниваем получившиеся интервалы"
      ],
      "metadata": {
        "id": "t4HPwEZM42pB"
      }
    },
    {
      "cell_type": "code",
      "source": [
        "plt.plot(median_confidence_interval(selection), (0, 0), label= \"Доверительный интервал для медианы\")\n",
        "plt.plot(asymptotic_confidence_interval(selection), (1, 1), label= \"Асимптотический доверительный интервал\")\n",
        "plt.plot(bootstrap_parametric(selection), (2, 2), label= \"Бутстраповский параметрический доверительный интервал\")\n",
        "plt.plot(bootstrap_nonparametric(selection), (3, 3), label= 'Бутстраповский непараметрический доверительный интервал')\n",
        "plt.legend(bbox_to_anchor=(1.05, 1.0), loc='upper left')"
      ],
      "metadata": {
        "colab": {
          "base_uri": "https://localhost:8080/",
          "height": 586
        },
        "id": "aJts0Pyp4Bon",
        "outputId": "f9189eec-8ad6-47e1-844e-90b3b3170d13"
      },
      "execution_count": 40,
      "outputs": [
        {
          "output_type": "stream",
          "name": "stdout",
          "text": [
            "Доверительный интервал для медианы:  1.0654426194381026 < teta < 1.0989537208156097\n",
            "Длина доверительного интервала:  0.033511101377507124\n",
            "Асимптотический доверительный интервал:  8.70656200075054 < teta < 9.3354071931515\n",
            "Длина доверительного интервала:  0.6288451924009593\n",
            "Бутстраповский параметрический доверительный интервал:  1.3810289329466634 < teta < 1.3925679027299092\n",
            "Длина бутстраповского параметрического доверительного интервала:  0.011538969783245756\n",
            "Бутстраповский непараметрический доверительный интервал:  7.025844715557195 < teta < 10.464610167554934\n",
            "Длина бутстраповского непараметрического доверительного интервала:  3.438765451997739\n"
          ]
        },
        {
          "output_type": "execute_result",
          "data": {
            "text/plain": [
              "<matplotlib.legend.Legend at 0x7fa0312aefe0>"
            ]
          },
          "metadata": {},
          "execution_count": 40
        },
        {
          "output_type": "display_data",
          "data": {
            "text/plain": [
              "<Figure size 640x480 with 1 Axes>"
            ],
            "image/png": "[encoded data removed]"
          },
          "metadata": {}
        }
      ]
    },
    {
      "cell_type": "code",
      "source": [],
      "metadata": {
        "id": "MpumhgYN50S7"
      },
      "execution_count": 40,
      "outputs": []
    }
  ]
}
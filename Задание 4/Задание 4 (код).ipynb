{
  "nbformat": 4,
  "nbformat_minor": 0,
  "metadata": {
    "colab": {
      "provenance": []
    },
    "kernelspec": {
      "name": "python3",
      "display_name": "Python 3"
    },
    "language_info": {
      "name": "python"
    }
  },
  "cells": [
    {
      "cell_type": "code",
      "execution_count": 27,
      "metadata": {
        "id": "TLcnwV-4VAaR"
      },
      "outputs": [],
      "source": [
        "import numpy as np\n",
        "import matplotlib.pyplot as plt"
      ]
    },
    {
      "cell_type": "markdown",
      "source": [
        "Генерируем выборку quantity = 100"
      ],
      "metadata": {
        "id": "mLBnBQELWwiz"
      }
    },
    {
      "cell_type": "code",
      "source": [
        "teta = 25\n",
        "beta = 0.95\n",
        "quantity = 100\n",
        "selection = np.random.uniform(teta, 2 * teta, quantity)\n",
        "\n",
        "print(selection)"
      ],
      "metadata": {
        "colab": {
          "base_uri": "https://localhost:8080/"
        },
        "id": "sK7WLfPHVHW1",
        "outputId": "368d6b31-d96b-4ce9-dc18-4f46a36daec0"
      },
      "execution_count": 58,
      "outputs": [
        {
          "output_type": "stream",
          "name": "stdout",
          "text": [
            "[40.42060452 27.85818849 36.73081764 35.3836973  31.90891841 41.17191616\n",
            " 37.54228291 29.15718057 38.67591726 48.77082673 35.58147575 32.63610575\n",
            " 32.01941923 47.73002514 30.85354083 37.18608954 30.56216181 35.48613218\n",
            " 36.61130398 30.90295238 44.74848028 26.34239995 46.45075861 27.07698515\n",
            " 27.37039369 32.99646119 44.30340995 32.39697044 47.03391476 47.01250823\n",
            " 39.93622018 36.70252095 28.63388104 49.81817684 36.54347097 26.60155353\n",
            " 29.26279701 41.09564022 39.63769777 43.8984199  37.42879515 36.89176701\n",
            " 38.10765421 48.79344879 37.88054927 25.95600784 28.10350456 38.23428277\n",
            " 29.89328852 29.10564588 36.41450886 45.90046405 39.55555341 28.48760395\n",
            " 42.97276258 49.88023308 32.70751486 35.55065058 47.39880953 44.39149388\n",
            " 31.35528238 39.63455435 46.00957779 29.69491412 47.05017033 47.4941993\n",
            " 36.67191275 46.71297259 49.71836513 26.33039423 31.2602438  40.10206604\n",
            " 33.96821378 47.74731646 35.36944009 36.14467102 27.14735135 44.15370231\n",
            " 47.77315367 45.50628576 32.43303884 43.56774152 26.70350519 29.00275815\n",
            " 43.76313573 48.66078874 35.17599028 49.16862603 26.60207293 44.00248371\n",
            " 38.19665272 38.63050289 27.60445653 42.14765935 35.45842837 46.4167616\n",
            " 27.95163239 35.11120059 30.05801642 30.98141086]\n"
          ]
        }
      ]
    },
    {
      "cell_type": "code",
      "source": [
        "def alpha_1(selection):\n",
        "    return sum(selection)/quantity\n",
        "def alpha_2(selection):\n",
        "    return sum(selection ** 2)/quantity"
      ],
      "metadata": {
        "id": "Q6Bb3iptgUMS"
      },
      "execution_count": 59,
      "outputs": []
    },
    {
      "cell_type": "code",
      "source": [
        "def get_bootstrap_sample(x, B_sample = 1000):\n",
        "    N = len(x)\n",
        "    result = list()\n",
        "    for i in range (B_sample):\n",
        "        sample = np.random.choice(x, size = N, replace = True)\n",
        "        if (B_sample == 1):\n",
        "            sample = sample.T[0]\n",
        "        result.append(sample)\n",
        "    return result"
      ],
      "metadata": {
        "id": "WNIYDT_fbMes"
      },
      "execution_count": 60,
      "outputs": []
    },
    {
      "cell_type": "markdown",
      "source": [
        "#f) Вычисляем доверительные интервалы для доверительной вероятности 0.95"
      ],
      "metadata": {
        "id": "g2CI9g4IXNm2"
      }
    },
    {
      "cell_type": "markdown",
      "source": [
        "Точный доверительный интервал"
      ],
      "metadata": {
        "id": "hYHROGCWXtEb"
      }
    },
    {
      "cell_type": "code",
      "source": [
        "def exact_confidence_interval(selection, beta = 0.95):\n",
        "    left_part = max(selection) / (((1 + beta) / 2) ** (1/quantity) + 1)\n",
        "    right_part = max(selection) / (((1 - beta) / 2) ** (1/quantity) + 1)\n",
        "    print('Точный доверительный интервал: ', left_part,'< teta <', right_part)\n",
        "    print('Длина точного доверительного интервала: ', right_part - left_part)\n",
        "    return left_part, right_part\n",
        "exact_confidence_interval(selection)"
      ],
      "metadata": {
        "colab": {
          "base_uri": "https://localhost:8080/"
        },
        "id": "2hQJumNKV7Ke",
        "outputId": "0e23ecc2-4efd-41d7-9327-5527975ce8fa"
      },
      "execution_count": 61,
      "outputs": [
        {
          "output_type": "stream",
          "name": "stdout",
          "text": [
            "Точный доверительный интервал:  24.94327368651881 < teta < 25.400069801714565\n",
            "Длина точного доверительного интервала:  0.456796115195754\n"
          ]
        },
        {
          "output_type": "execute_result",
          "data": {
            "text/plain": [
              "(24.94327368651881, 25.400069801714565)"
            ]
          },
          "metadata": {},
          "execution_count": 61
        }
      ]
    },
    {
      "cell_type": "markdown",
      "source": [
        "Асимптотический доверительный интервал"
      ],
      "metadata": {
        "id": "NMLFtgZAYluf"
      }
    },
    {
      "cell_type": "code",
      "source": [
        "def asymptotic_confidence_interval_OMM(selection, beta):\n",
        "    left_part = -1.96 * 2/3 * (alpha_2(selection) - alpha_1(selection) ** 2) ** (1/2) / (quantity) ** (1/2) + 2/3 * np.mean(selection)\n",
        "    right_part = 1.96 * 2/3 * (alpha_2(selection) - alpha_1(selection) ** 2) ** (1/2) / (quantity) ** (1/2) + 2/3 * np.mean(selection)\n",
        "    print('Асимптотический доверительный интервал: ', left_part, '< teta <', right_part)\n",
        "    print('Длина асимптотического доверительного интервала: ', right_part - left_part)\n",
        "    return left_part, right_part\n",
        "asymptotic_confidence_interval_OMM(selection, beta)"
      ],
      "metadata": {
        "colab": {
          "base_uri": "https://localhost:8080/"
        },
        "id": "EQZ5Sk-MXvKK",
        "outputId": "cafa8b76-f6cc-4b18-f8ff-8a92dc48cafa"
      },
      "execution_count": 62,
      "outputs": [
        {
          "output_type": "stream",
          "name": "stdout",
          "text": [
            "Асимптотический доверительный интервал:  23.992126671650418 < teta < 25.87705207650682\n",
            "Длина асимптотического доверительного интервала:  1.8849254048564035\n"
          ]
        },
        {
          "output_type": "execute_result",
          "data": {
            "text/plain": [
              "(23.992126671650418, 25.87705207650682)"
            ]
          },
          "metadata": {},
          "execution_count": 62
        }
      ]
    },
    {
      "cell_type": "markdown",
      "source": [
        "#g) Строим бутстраповский доверительный интервал"
      ],
      "metadata": {
        "id": "drH8_zIuZ96N"
      }
    },
    {
      "cell_type": "markdown",
      "source": [
        "Бутстраповский непараметрический доверительный интервал для teta_1 = (2/3) * x_ср"
      ],
      "metadata": {
        "id": "0F3GK8rUakg9"
      }
    },
    {
      "cell_type": "code",
      "source": [
        "def bootstrap_OMM_nonparametric(selection):\n",
        "    real_mean = 2/3 * selection.mean()\n",
        "    current_selection = np.array(get_bootstrap_sample(selection))\n",
        "    bootstrap_mean = list()\n",
        "    for i in range(1000):\n",
        "        bootstrap_mean.append(2/3 * current_selection[i].mean())\n",
        "    bootstrap_mean = np.array(bootstrap_mean)\n",
        "    delta = bootstrap_mean - real_mean\n",
        "    delta.sort()\n",
        "    k1 = 24\n",
        "    k2 = 974\n",
        "    left_part = real_mean - delta[k2]\n",
        "    right_part = real_mean - delta[k1]\n",
        "    print('Бутстраповский непараметрический доверительный интервал: ', left_part, '< teta <', right_part)\n",
        "    print('Длина бутстраповского непараметрического доверительного интервала: ', right_part - left_part)\n",
        "    return left_part, right_part\n",
        "bootstrap_OMM_nonparametric(selection)"
      ],
      "metadata": {
        "colab": {
          "base_uri": "https://localhost:8080/"
        },
        "id": "0bgy8JWpaxxJ",
        "outputId": "82611c69-dafe-423e-9a3c-915a00fdc599"
      },
      "execution_count": 63,
      "outputs": [
        {
          "output_type": "stream",
          "name": "stdout",
          "text": [
            "Бутстраповский непараметрический доверительный интервал:  24.011001066367097 < teta < 25.833794226765647\n",
            "Длина бутстраповского непараметрического доверительного интервала:  1.8227931603985503\n"
          ]
        },
        {
          "output_type": "execute_result",
          "data": {
            "text/plain": [
              "(24.011001066367097, 25.833794226765647)"
            ]
          },
          "metadata": {},
          "execution_count": 63
        }
      ]
    },
    {
      "cell_type": "markdown",
      "source": [
        "Бутстраповский параметрический доверительный интервал для teta_1 = (2/3) * x_ср"
      ],
      "metadata": {
        "id": "ioo_gCxycl6A"
      }
    },
    {
      "cell_type": "code",
      "source": [
        "def bootstrap_OMM_parametric(selection):\n",
        "    real_mean = 2/3 * selection.mean()\n",
        "    teta = real_mean\n",
        "    quantity = 100\n",
        "    current_selection = list()\n",
        "    current_selection_grade = list()\n",
        "    for i in range(50000):\n",
        "        current_selection.append(np.random.uniform(teta, 2 * teta, quantity))\n",
        "        current_selection_grade.append(2 / 3 * current_selection[i].mean())\n",
        "    current_selection = np.array(current_selection)\n",
        "    current_selection_grade = np.array(current_selection_grade)\n",
        "    current_selection_grade.sort()\n",
        "    k1 = 1249\n",
        "    k2 = 48749\n",
        "    left_part = current_selection_grade[k1]\n",
        "    right_part = current_selection_grade[k2]\n",
        "    print('Бутстраповский параметрический доверительный интервал: ', left_part, '< theta <', right_part)\n",
        "    print('Длина параметрический бутстраповского доверительного интервала: ', right_part - left_part)\n",
        "    return left_part, right_part\n",
        "bootstrap_OMM_parametric(selection)"
      ],
      "metadata": {
        "colab": {
          "base_uri": "https://localhost:8080/"
        },
        "id": "Duel52YwaE-o",
        "outputId": "a22162b4-be52-4449-9a04-ed7e04dc546e"
      },
      "execution_count": 64,
      "outputs": [
        {
          "output_type": "stream",
          "name": "stdout",
          "text": [
            "Бутстраповский параметрический доверительный интервал:  24.000085718175214 < theta < 25.873998617512232\n",
            "Длина параметрический бутстраповского доверительного интервала:  1.873912899337018\n"
          ]
        },
        {
          "output_type": "execute_result",
          "data": {
            "text/plain": [
              "(24.000085718175214, 25.873998617512232)"
            ]
          },
          "metadata": {},
          "execution_count": 64
        }
      ]
    },
    {
      "cell_type": "markdown",
      "source": [
        "Бутстраповский непараметрический доверительный интервал для teta_2 = x_max / 2"
      ],
      "metadata": {
        "id": "NwVdnRuid5FQ"
      }
    },
    {
      "cell_type": "code",
      "source": [
        "def bootstrap_OMP_nonparametric(selection):\n",
        "    real_max = 1/2 * max(selection)\n",
        "    current_selection = np.array(get_bootstrap_sample(selection))\n",
        "    bootstrap_max = list()\n",
        "    for i in range(1000):\n",
        "        bootstrap_max.append(1/2 * current_selection[i].max())\n",
        "    bootstrap_max = np.array(bootstrap_max)\n",
        "    delta = bootstrap_max - real_max\n",
        "    delta.sort()\n",
        "    k1 = 24\n",
        "    k2 = 974\n",
        "    right_part = real_max - delta[k1]\n",
        "    left_part = real_max - delta[k2]\n",
        "    print('Бутстраповский непараметрический доверительный интервал: ', left_part, '< teta <', right_part)\n",
        "    print('Длина бутстраповского непараметрического доверительного интервала: ', right_part - left_part)\n",
        "    return left_part, right_part\n",
        "bootstrap_OMP_nonparametric(selection)"
      ],
      "metadata": {
        "colab": {
          "base_uri": "https://localhost:8080/"
        },
        "id": "aoFVxbqHeCIe",
        "outputId": "9232f26c-4822-40f1-9955-91717763a844"
      },
      "execution_count": 65,
      "outputs": [
        {
          "output_type": "stream",
          "name": "stdout",
          "text": [
            "Бутстраповский непараметрический доверительный интервал:  24.940116541127203 < teta < 25.29592006927147\n",
            "Длина бутстраповского непараметрического доверительного интервала:  0.35580352814426774\n"
          ]
        },
        {
          "output_type": "execute_result",
          "data": {
            "text/plain": [
              "(24.940116541127203, 25.29592006927147)"
            ]
          },
          "metadata": {},
          "execution_count": 65
        }
      ]
    },
    {
      "cell_type": "markdown",
      "source": [
        "Бутстраповский параметрический доверительный интервал для teta_2 = x_max / 2\n",
        "\n"
      ],
      "metadata": {
        "id": "mv1Kq6DXet-B"
      }
    },
    {
      "cell_type": "code",
      "source": [
        "def bootstrap_OMP_parametric(selection):\n",
        "    real_max = 1/2 * max(selection)\n",
        "    teta = real_max\n",
        "    quantity = 100\n",
        "    currunt_selection = list()\n",
        "    currunt_selection_grade = list()\n",
        "    for i in range(50000):\n",
        "        currunt_selection.append(np.random.uniform(teta, 2 * teta, quantity))\n",
        "        currunt_selection_grade.append(1 / 2 * currunt_selection[i].max())\n",
        "    currunt_selection = np.array(currunt_selection)\n",
        "    currunt_selection_grade = np.array(currunt_selection_grade)\n",
        "    currunt_selection_grade.sort()\n",
        "    k1 = 1249\n",
        "    k2 = 48749\n",
        "    right_part = currunt_selection_grade[k2]\n",
        "    left_part = currunt_selection_grade[k1]\n",
        "    print('Бутстраповский параметрический доверительный интервал: ', left_part, '< teta <', right_part)\n",
        "    print('Длина бутстраповского параметрического доверительного интервала: ', right_part - left_part)\n",
        "    return left_part, right_part\n",
        "bootstrap_OMP_parametric(selection)"
      ],
      "metadata": {
        "colab": {
          "base_uri": "https://localhost:8080/"
        },
        "id": "s-k9TRanex1o",
        "outputId": "85a5d304-6c45-4e41-aa4c-cafa8e3242d7"
      },
      "execution_count": 66,
      "outputs": [
        {
          "output_type": "stream",
          "name": "stdout",
          "text": [
            "Бутстраповский параметрический доверительный интервал:  24.490254514985338 < teta < 24.936830625847747\n",
            "Длина бутстраповского параметрического доверительного интервала:  0.44657611086240934\n"
          ]
        },
        {
          "output_type": "execute_result",
          "data": {
            "text/plain": [
              "(24.490254514985338, 24.936830625847747)"
            ]
          },
          "metadata": {},
          "execution_count": 66
        }
      ]
    },
    {
      "cell_type": "markdown",
      "source": [
        "#h) Сравниваем получившиеся интервалы"
      ],
      "metadata": {
        "id": "1Fn1VQhchd_z"
      }
    },
    {
      "cell_type": "code",
      "source": [
        "plt.plot(exact_confidence_interval(selection), (0, 0), label= \"Точный доверительный интервал\")\n",
        "plt.plot(asymptotic_confidence_interval_OMM(selection, beta), (1, 1), label= \"Асимптотический доверительный интервал\")\n",
        "plt.plot(bootstrap_OMM_parametric(selection), (2, 2), label= \"Бутстраповский непараметрический доверительный интервал для teta_1 = (2/3) * x_ср, OMM\")\n",
        "plt.plot(bootstrap_OMM_nonparametric(selection), (3, 3), label = \"Бутстраповский параметрический доверительный интервал для teta_1 = (2/3) * x_ср, OMM\")\n",
        "plt.plot(bootstrap_OMP_parametric(selection), (4, 4), label= \"Бутстраповский непараметрический доверительный интервал для teta_2 = x_max / 2, OMP\")\n",
        "plt.plot(bootstrap_OMP_nonparametric(selection), (5, 5), label= \"Бутстраповский параметрический доверительный интервал для teta_2 = x_max / 2, OMP\")\n",
        "plt.legend(bbox_to_anchor=(1.05, 1.0), loc='upper left')"
      ],
      "metadata": {
        "colab": {
          "base_uri": "https://localhost:8080/",
          "height": 656
        },
        "id": "IY4ewQylhZYl",
        "outputId": "2c4b5b57-f443-4d9f-9a61-31e7b15c376e"
      },
      "execution_count": 67,
      "outputs": [
        {
          "output_type": "stream",
          "name": "stdout",
          "text": [
            "Точный доверительный интервал:  24.94327368651881 < teta < 25.400069801714565\n",
            "Длина точного доверительного интервала:  0.456796115195754\n",
            "Асимптотический доверительный интервал:  23.992126671650418 < teta < 25.87705207650682\n",
            "Длина асимптотического доверительного интервала:  1.8849254048564035\n",
            "Бутстраповский параметрический доверительный интервал:  23.992331689051614 < theta < 25.877195604800963\n",
            "Длина параметрический бутстраповского доверительного интервала:  1.8848639157493494\n",
            "Бутстраповский непараметрический доверительный интервал:  23.911110948206655 < teta < 25.87651163146617\n",
            "Длина бутстраповского непараметрического доверительного интервала:  1.9654006832595137\n",
            "Бутстраповский параметрический доверительный интервал:  24.488767076934998 < teta < 24.936963627839308\n",
            "Длина бутстраповского параметрического доверительного интервала:  0.44819655090431\n",
            "Бутстраповский непараметрический доверительный интервал:  24.940116541127203 < teta < 25.29592006927147\n",
            "Длина бутстраповского непараметрического доверительного интервала:  0.35580352814426774\n"
          ]
        },
        {
          "output_type": "execute_result",
          "data": {
            "text/plain": [
              "<matplotlib.legend.Legend at 0x7be41ec80280>"
            ]
          },
          "metadata": {},
          "execution_count": 67
        },
        {
          "output_type": "display_data",
          "data": {
            "text/plain": [
              "<Figure size 640x480 with 1 Axes>"
            ],
            "image/png": "[encoded data removed]"
          },
          "metadata": {}
        }
      ]
    },
    {
      "cell_type": "code",
      "source": [],
      "metadata": {
        "id": "EfZdAGzBiutM"
      },
      "execution_count": 47,
      "outputs": []
    }
  ]
}
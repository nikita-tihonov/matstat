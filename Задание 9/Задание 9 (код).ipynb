{
  "nbformat": 4,
  "nbformat_minor": 0,
  "metadata": {
    "colab": {
      "provenance": []
    },
    "kernelspec": {
      "name": "python3",
      "display_name": "Python 3"
    },
    "language_info": {
      "name": "python"
    }
  },
  "cells": [
    {
      "cell_type": "code",
      "source": [
        "import scipy.integrate as spi\n",
        "from scipy.optimize import minimize\n",
        "from scipy.stats import norm\n",
        "from scipy.stats import moment\n",
        "import numpy as np"
      ],
      "metadata": {
        "id": "wJI7cG1ekRdC"
      },
      "execution_count": 86,
      "outputs": []
    },
    {
      "cell_type": "markdown",
      "source": [
        "# Проверка гипотезы с помощью критерия хи-квадрат"
      ],
      "metadata": {
        "id": "o9LgorLovNj-"
      }
    },
    {
      "cell_type": "markdown",
      "source": [
        "Считаем параметры a и sigma для нормального распределения"
      ],
      "metadata": {
        "id": "dLToaqL_qxW_"
      }
    },
    {
      "cell_type": "code",
      "execution_count": 87,
      "metadata": {
        "colab": {
          "base_uri": "https://localhost:8080/"
        },
        "id": "meyhzAM5j2xi",
        "outputId": "c22ed472-8ad2-4b94-836a-fd6e113b1aef"
      },
      "outputs": [
        {
          "output_type": "stream",
          "name": "stdout",
          "text": [
            "a = 5.289677406355167\n",
            "sigma = 2.6795194456320277\n"
          ]
        }
      ],
      "source": [
        "def norm_distribution(x, a, sigma):\n",
        "    return 1 / ((2 * np.pi) ** 0.5 * sigma) * np.exp(-((x - a) / sigma) ** 2 / 2)\n",
        "\n",
        "def ln_p(a, b, x):\n",
        "    if a == 0:\n",
        "        a = -np.inf\n",
        "    if b == 10:\n",
        "        b = np.inf\n",
        "    value = (spi.quad(norm_distribution, a, b, (x[0], x[1])))[0]\n",
        "    if (value <= 0):\n",
        "        return -10\n",
        "    return np.log(value)\n",
        "\n",
        "def ln_L(x):\n",
        "    return -(5 * ln_p(0, 1, x) + 8 * ln_p(1, 2, x) + 6 * ln_p(2, 3, x) + 12 * ln_p(3, 4, x) + \\\n",
        "             14 * ln_p(4, 5, x) + 18 * ln_p(5, 6, x) + 11 * ln_p(6, 7, x) + 6 * ln_p(7, 8, x) + \\\n",
        "             13 * ln_p(8, 9, x) + 7 * ln_p(9, 10, x))\n",
        "\n",
        "x0 = np.array([0.5, 0.5])\n",
        "answer = minimize(ln_L, x0)\n",
        "print('a =', answer.x[0])\n",
        "print('sigma =', answer.x[1])"
      ]
    },
    {
      "cell_type": "markdown",
      "source": [
        "Считаем дельта оценочное"
      ],
      "metadata": {
        "id": "URYOzx-lsmdD"
      }
    },
    {
      "cell_type": "code",
      "source": [
        "def p(a, b, x):\n",
        "    if a == 0:\n",
        "        a = -np.inf\n",
        "    if b == 10:\n",
        "        b = np.inf\n",
        "    return (spi.quad(norm_distribution, a, b, (x[0], x[1])))[0]\n",
        "\n",
        "n = 100\n",
        "m_i = [5, 8, 6, 12, 14, 18, 11, 6, 13, 7]\n",
        "np_i = [p(i, (i + 1), answer.x) * n for i in range(len(m_i))]\n",
        "\n",
        "delta_est = sum((m_i[i] - np_i[i]) ** 2 / np_i[i] for i in range(len(m_i)))\n",
        "\n",
        "print(\"delta_est =\", delta_est)"
      ],
      "metadata": {
        "colab": {
          "base_uri": "https://localhost:8080/"
        },
        "id": "6q4ml9kUssfE",
        "outputId": "7c9980a6-cba7-4088-f939-89cb11f166fd"
      },
      "execution_count": 88,
      "outputs": [
        {
          "output_type": "stream",
          "name": "stdout",
          "text": [
            "delta_est = 9.802553957084529\n"
          ]
        }
      ]
    },
    {
      "cell_type": "markdown",
      "source": [
        "# Проверка гипотезы с помощью критерия Колмогорова"
      ],
      "metadata": {
        "id": "HEyiY5Z1vhMC"
      }
    },
    {
      "cell_type": "code",
      "source": [
        "def F_empirical(x_n, x):\n",
        "    return sum([1 if i < x else 0 for i in x_n]) / len(x_n)\n",
        "\n",
        "def delta(x_n):\n",
        "    ans = 0\n",
        "    a = np.mean(x_n)\n",
        "    sigma_sq = len(x_n) / (len(x_n) - 1) * moment(x_n, moment=2)\n",
        "    for i in range(10):\n",
        "        ans = max(ans, abs(norm.cdf(i, loc=a, scale=(sigma_sq) ** 0.5) - F_empirical(x_n, i)), abs(norm.cdf(i, loc=a, scale=sigma_sq ** 0.5) - F_empirical(x_n, i + 1)))\n",
        "    return ans * len(x_n) ** 0.5\n",
        "\n",
        "def bootstrap_distribution(n, x_n):\n",
        "    delta_est = delta(x_n)\n",
        "    a = np.mean(x_n)\n",
        "    sigma_sq = len(x_n) / (len(x_n) - 1) * moment(x_n, moment=2)\n",
        "    delta_i = []\n",
        "    for i in range(50000):\n",
        "        sample = [int(x_i) for x_i in norm.rvs(loc=a, scale=sigma_sq ** 0.5, size=n)]\n",
        "        delta_i.append(delta(sample))\n",
        "    sorted(delta_i)\n",
        "    p_value = sum([1 if i >= delta_est else 0 for i in delta_i]) / 50000\n",
        "\n",
        "    print(\"delta_est =\", delta_est)\n",
        "    print(\"p-value =\", p_value)\n",
        "\n",
        "A_i = [5, 8, 6, 12, 14, 18, 11, 6, 13, 7]\n",
        "x_n = []\n",
        "for i in range(10):\n",
        "    x_n += [i] * A_i[i]\n",
        "bootstrap_distribution(100, x_n)"
      ],
      "metadata": {
        "colab": {
          "base_uri": "https://localhost:8080/"
        },
        "id": "8WKddn7o2QB5",
        "outputId": "010903bb-fc8d-4672-90a1-32a1db3b6685"
      },
      "execution_count": 89,
      "outputs": [
        {
          "output_type": "stream",
          "name": "stdout",
          "text": [
            "delta_est = 1.0020942299329128\n",
            "p-value = 0.79802\n"
          ]
        }
      ]
    }
  ]
}